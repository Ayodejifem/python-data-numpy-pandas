{
 "cells": [
  {
   "cell_type": "code",
   "execution_count": 4,
   "id": "90ba8851",
   "metadata": {},
   "outputs": [
    {
     "name": "stdout",
     "output_type": "stream",
     "text": [
      "6\n"
     ]
    }
   ],
   "source": [
    "def add_positional(a,b,c):\n",
    "    sum = a+b+c\n",
    "    return sum\n",
    "\n",
    "result = add_positional(1,2,3)\n",
    "print(result)"
   ]
  },
  {
   "cell_type": "code",
   "execution_count": 5,
   "id": "83ad5cfe",
   "metadata": {},
   "outputs": [
    {
     "name": "stdout",
     "output_type": "stream",
     "text": [
      "name fem\n",
      "age 42\n"
     ]
    }
   ],
   "source": [
    "def add_keyword(name = \"alice\", age = 30):\n",
    "    print(\"name\", name)\n",
    "    print(\"age\", age)\n",
    "\n",
    "add_keyword(name = \"fem\" , age = 42)"
   ]
  },
  {
   "cell_type": "markdown",
   "id": "a0f8687d",
   "metadata": {},
   "source": [
    "### classes"
   ]
  },
  {
   "cell_type": "code",
   "execution_count": 6,
   "id": "eb7912da",
   "metadata": {},
   "outputs": [],
   "source": [
    "class cryptowallet:\n",
    "    #constructor\n",
    "    def __init__(self, owner):\n",
    "        self.owner = owner\n",
    "        self.balance = {}\n",
    "\n",
    "    def deposit (self, token, amount):\n",
    "        self.balance[token] = self.balance.get(token, 0) + amount\n",
    "\n",
    "    def withdraw(self, token, amount):\n",
    "        if self.balance.get(token, 0) >= amount:\n",
    "            self.balance[token] -= amount\n",
    "            return True\n",
    "        else:\n",
    "            return False\n",
    "        \n",
    "    def view_balance(self):\n",
    "        return self.balance"
   ]
  },
  {
   "cell_type": "code",
   "execution_count": 11,
   "id": "e119c453",
   "metadata": {},
   "outputs": [
    {
     "name": "stdout",
     "output_type": "stream",
     "text": [
      "{'ETH': 0.7, 'BTC': 0.1}\n"
     ]
    }
   ],
   "source": [
    "wallet = cryptowallet('dan')\n",
    "wallet.deposit('ETH' , 0.7)\n",
    "wallet.deposit('BTC' , 0.1)\n",
    "\n",
    "print(wallet.view_balance ())"
   ]
  },
  {
   "cell_type": "code",
   "execution_count": 12,
   "id": "0776ed91",
   "metadata": {},
   "outputs": [
    {
     "name": "stdout",
     "output_type": "stream",
     "text": [
      "withdrawal success:  False\n",
      "{'ETH': 0.7, 'BTC': 0.1}\n"
     ]
    }
   ],
   "source": [
    "success = wallet.withdraw('ETH' , 1.0)\n",
    "print('withdrawal success: ', success)\n",
    "print(wallet.view_balance())"
   ]
  },
  {
   "cell_type": "code",
   "execution_count": 13,
   "id": "d33d53cf",
   "metadata": {},
   "outputs": [
    {
     "ename": "ModuleNotFoundError",
     "evalue": "No module named 'pandas'",
     "output_type": "error",
     "traceback": [
      "\u001b[31m---------------------------------------------------------------------------\u001b[39m",
      "\u001b[31mModuleNotFoundError\u001b[39m                       Traceback (most recent call last)",
      "\u001b[36mCell\u001b[39m\u001b[36m \u001b[39m\u001b[32mIn[13]\u001b[39m\u001b[32m, line 1\u001b[39m\n\u001b[32m----> \u001b[39m\u001b[32m1\u001b[39m \u001b[38;5;28;01mimport\u001b[39;00m\u001b[38;5;250m \u001b[39m\u001b[34;01mpandas\u001b[39;00m\u001b[38;5;250m \u001b[39m\u001b[38;5;28;01mas\u001b[39;00m\u001b[38;5;250m \u001b[39m\u001b[34;01mpd\u001b[39;00m\n",
      "\u001b[31mModuleNotFoundError\u001b[39m: No module named 'pandas'"
     ]
    }
   ],
   "source": [
    "import pandas as pd"
   ]
  },
  {
   "cell_type": "code",
   "execution_count": 14,
   "id": "172f5962",
   "metadata": {},
   "outputs": [
    {
     "ename": "ModuleNotFoundError",
     "evalue": "No module named 'numby'",
     "output_type": "error",
     "traceback": [
      "\u001b[31m---------------------------------------------------------------------------\u001b[39m",
      "\u001b[31mModuleNotFoundError\u001b[39m                       Traceback (most recent call last)",
      "\u001b[36mCell\u001b[39m\u001b[36m \u001b[39m\u001b[32mIn[14]\u001b[39m\u001b[32m, line 1\u001b[39m\n\u001b[32m----> \u001b[39m\u001b[32m1\u001b[39m \u001b[38;5;28;01mimport\u001b[39;00m\u001b[38;5;250m \u001b[39m\u001b[34;01mnumby\u001b[39;00m\u001b[38;5;250m \u001b[39m\u001b[38;5;28;01mas\u001b[39;00m\u001b[38;5;250m \u001b[39m\u001b[34;01mnp\u001b[39;00m\n",
      "\u001b[31mModuleNotFoundError\u001b[39m: No module named 'numby'"
     ]
    }
   ],
   "source": [
    "import numby as np"
   ]
  }
 ],
 "metadata": {
  "kernelspec": {
   "display_name": "pythonz",
   "language": "python",
   "name": "python3"
  },
  "language_info": {
   "codemirror_mode": {
    "name": "ipython",
    "version": 3
   },
   "file_extension": ".py",
   "mimetype": "text/x-python",
   "name": "python",
   "nbconvert_exporter": "python",
   "pygments_lexer": "ipython3",
   "version": "3.12.3"
  }
 },
 "nbformat": 4,
 "nbformat_minor": 5
}
