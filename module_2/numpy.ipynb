{
 "cells": [
  {
   "cell_type": "code",
   "execution_count": 5,
   "id": "a34745eb",
   "metadata": {},
   "outputs": [],
   "source": [
    "import numpy as np\n"
   ]
  },
  {
   "cell_type": "markdown",
   "id": "136001d2",
   "metadata": {},
   "source": [
    "### create a numpy array"
   ]
  },
  {
   "cell_type": "code",
   "execution_count": 2,
   "id": "153ffce2",
   "metadata": {},
   "outputs": [
    {
     "name": "stdout",
     "output_type": "stream",
     "text": [
      "[45000 50000 40000 20000]\n"
     ]
    }
   ],
   "source": [
    "prices = np.array([45000, 50000, 40000, 20000])\n",
    "print(prices)"
   ]
  },
  {
   "cell_type": "code",
   "execution_count": 3,
   "id": "bb01807a",
   "metadata": {},
   "outputs": [
    {
     "name": "stdout",
     "output_type": "stream",
     "text": [
      "(4,)\n"
     ]
    }
   ],
   "source": [
    "print(prices.shape)"
   ]
  },
  {
   "cell_type": "code",
   "execution_count": 4,
   "id": "44a0ad15",
   "metadata": {},
   "outputs": [
    {
     "name": "stdout",
     "output_type": "stream",
     "text": [
      "int64\n"
     ]
    }
   ],
   "source": [
    "print(prices.dtype)"
   ]
  },
  {
   "cell_type": "markdown",
   "id": "7c265d85",
   "metadata": {},
   "source": [
    "### basic data manipulation"
   ]
  },
  {
   "cell_type": "code",
   "execution_count": 6,
   "id": "7864ceaa",
   "metadata": {},
   "outputs": [
    {
     "name": "stdout",
     "output_type": "stream",
     "text": [
      "[45100 50100 40100 20100]\n"
     ]
    }
   ],
   "source": [
    "prices = np.array([45000, 50000, 40000, 20000])\n",
    "\n",
    "prices_plus_100 = prices + 100\n",
    "\n",
    "print(prices_plus_100)\n"
   ]
  },
  {
   "cell_type": "code",
   "execution_count": 7,
   "id": "e6525d6b",
   "metadata": {},
   "outputs": [
    {
     "name": "stdout",
     "output_type": "stream",
     "text": [
      "[45001.02 50001.02 40001.02 20001.02]\n"
     ]
    }
   ],
   "source": [
    "prices = np.array([45000, 50000, 40000, 20000])\n",
    "\n",
    "prices_increase = prices + 1.02\n",
    "\n",
    "print(prices_increase)"
   ]
  },
  {
   "cell_type": "code",
   "execution_count": 10,
   "id": "04599621",
   "metadata": {},
   "outputs": [
    {
     "ename": "NameError",
     "evalue": "name 'price_s' is not defined",
     "output_type": "error",
     "traceback": [
      "\u001b[31m---------------------------------------------------------------------------\u001b[39m",
      "\u001b[31mNameError\u001b[39m                                 Traceback (most recent call last)",
      "\u001b[36mCell\u001b[39m\u001b[36m \u001b[39m\u001b[32mIn[10]\u001b[39m\u001b[32m, line 1\u001b[39m\n\u001b[32m----> \u001b[39m\u001b[32m1\u001b[39m higher_price = \u001b[43mprice_s\u001b[49m[price_s > \u001b[32m20000\u001b[39m ]\n\u001b[32m      3\u001b[39m \u001b[38;5;28mprint\u001b[39m(higher_price)\n",
      "\u001b[31mNameError\u001b[39m: name 'price_s' is not defined"
     ]
    }
   ],
   "source": [
    "higher_price = price_s[price_s > 20000 ]\n",
    "\n",
    "print(higher_price)\n",
    "\n",
    "\n"
   ]
  },
  {
   "cell_type": "markdown",
   "id": "b4636eab",
   "metadata": {},
   "source": [
    "### # basic statistical function"
   ]
  },
  {
   "cell_type": "code",
   "execution_count": 11,
   "id": "5d845b6f",
   "metadata": {},
   "outputs": [
    {
     "name": "stdout",
     "output_type": "stream",
     "text": [
      "\n",
      "statistics for volume:\n",
      "Minimum: 100000\n",
      "Mean (Average): 275000.0\n",
      "Median: 250000.0\n",
      "Standard Deviation: 147901.9945774904\n"
     ]
    }
   ],
   "source": [
    "volume = np.array([500000, 300000, 200000, 100000])\n",
    "\n",
    "print(\"\\nstatistics for volume:\")\n",
    "\n",
    "print(\"Minimum:\", np.min(volume))\n",
    "print(\"Mean (Average):\", np.mean(volume))\n",
    "print(\"Median:\", np.median(volume))\n",
    "print(\"Standard Deviation:\", np.std(volume))"
   ]
  }
 ],
 "metadata": {
  "kernelspec": {
   "display_name": "pythonz",
   "language": "python",
   "name": "python3"
  },
  "language_info": {
   "codemirror_mode": {
    "name": "ipython",
    "version": 3
   },
   "file_extension": ".py",
   "mimetype": "text/x-python",
   "name": "python",
   "nbconvert_exporter": "python",
   "pygments_lexer": "ipython3",
   "version": "3.12.3"
  }
 },
 "nbformat": 4,
 "nbformat_minor": 5
}
