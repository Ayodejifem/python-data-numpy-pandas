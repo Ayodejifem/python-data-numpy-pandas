{
 "cells": [
  {
   "cell_type": "code",
   "execution_count": 1,
   "id": "09230fe3",
   "metadata": {},
   "outputs": [],
   "source": [
    "import pandas as pd"
   ]
  },
  {
   "cell_type": "code",
   "execution_count": 2,
   "id": "a843028a",
   "metadata": {},
   "outputs": [
    {
     "name": "stdout",
     "output_type": "stream",
     "text": [
      "       coin     price  volume\n",
      "0   bitcoin  45000.00   15000\n",
      "1  ethereum   3000.00    8000\n",
      "2    ripple      0.85  200000\n",
      "3  litecoin    120.00   50000\n"
     ]
    }
   ],
   "source": [
    "#create a dictionary\n",
    "\n",
    "data = {\n",
    "    'coin': ['bitcoin' , 'ethereum' , 'ripple' , 'litecoin'],\n",
    "    'price': [45000, 3000, 0.85, 120],\n",
    "    'volume': [15000, 8000, 200000, 50000]\n",
    "}\n",
    "\n",
    "df = pd.DataFrame(data)\n",
    "print(df)"
   ]
  },
  {
   "cell_type": "code",
   "execution_count": 3,
   "id": "6ae54fcb",
   "metadata": {},
   "outputs": [
    {
     "name": "stdout",
     "output_type": "stream",
     "text": [
      "       coin    price  volume\n",
      "0   bitcoin  45000.0   15000\n",
      "1  ethereum   3000.0    8000\n"
     ]
    }
   ],
   "source": [
    "print(df.head(2))"
   ]
  },
  {
   "cell_type": "code",
   "execution_count": 4,
   "id": "8f7579bd",
   "metadata": {},
   "outputs": [
    {
     "name": "stdout",
     "output_type": "stream",
     "text": [
      "       coin   price  volume\n",
      "2    ripple    0.85  200000\n",
      "3  litecoin  120.00   50000\n"
     ]
    }
   ],
   "source": [
    "print(df.tail(2))"
   ]
  }
 ],
 "metadata": {
  "kernelspec": {
   "display_name": "pythonz",
   "language": "python",
   "name": "python3"
  },
  "language_info": {
   "codemirror_mode": {
    "name": "ipython",
    "version": 3
   },
   "file_extension": ".py",
   "mimetype": "text/x-python",
   "name": "python",
   "nbconvert_exporter": "python",
   "pygments_lexer": "ipython3",
   "version": "3.12.3"
  }
 },
 "nbformat": 4,
 "nbformat_minor": 5
}
