{
 "cells": [
  {
   "cell_type": "code",
   "execution_count": 4,
   "id": "a250c344",
   "metadata": {},
   "outputs": [],
   "source": [
    "# ...existing code...\n",
    "import requests\n",
    "from selenium import webdriver\n",
    "import time\n",
    "from bs4 import BeautifulSoup\n",
    "# ...existing code..."
   ]
  },
  {
   "cell_type": "markdown",
   "id": "8a9e3860",
   "metadata": {},
   "source": [
    "## scrap coinmarketcap"
   ]
  },
  {
   "cell_type": "code",
   "execution_count": null,
   "id": "3da061ca",
   "metadata": {},
   "outputs": [
    {
     "ename": "SyntaxError",
     "evalue": "unterminated string literal (detected at line 1) (1091517813.py, line 1)",
     "output_type": "error",
     "traceback": [
      "  \u001b[36mCell\u001b[39m\u001b[36m \u001b[39m\u001b[32mIn[5]\u001b[39m\u001b[32m, line 1\u001b[39m\n\u001b[31m    \u001b[39m\u001b[31murl = 'https://coinmarketcap.com/curre\u001b[39m\n          ^\n\u001b[31mSyntaxError\u001b[39m\u001b[31m:\u001b[39m unterminated string literal (detected at line 1)\n"
     ]
    }
   ],
   "source": [
    "url = 'https://coinmarketcap.com/currencies/bitcoin/historical-data/?start=20130428&end=20231028'\n",
    "\n",
    "response = requests.get(url)\n",
    "soup = BeautifulSoup(response.text, 'html.parser')\n",
    "\n",
    "table = soup.find('table', {'class': 'h7vnx2-2 czTsgW cmc-table  '})\n",
    "\n",
    "rows = table.find_all('tr')\n",
    "for row in rows:"
   ]
  }
 ],
 "metadata": {
  "kernelspec": {
   "display_name": "pythonz",
   "language": "python",
   "name": "python3"
  },
  "language_info": {
   "codemirror_mode": {
    "name": "ipython",
    "version": 3
   },
   "file_extension": ".py",
   "mimetype": "text/x-python",
   "name": "python",
   "nbconvert_exporter": "python",
   "pygments_lexer": "ipython3",
   "version": "3.12.3"
  }
 },
 "nbformat": 4,
 "nbformat_minor": 5
}
